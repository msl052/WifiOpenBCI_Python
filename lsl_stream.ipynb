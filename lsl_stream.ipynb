{
 "cells": [
  {
   "cell_type": "code",
   "execution_count": 18,
   "metadata": {
    "scrolled": true
   },
   "outputs": [
    {
     "name": "stdout",
     "output_type": "stream",
     "text": [
      "Welcome to OpenBCI Native WiFi Shield Driver - Please contribute code!\n",
      "Opened socket on 192.168.0.103:53925\n",
      "Init WiFi connection with IP: 192.168.0.100\n"
     ]
    },
    {
     "ename": "RuntimeError",
     "evalue": "No board connected to WiFi Shield. To learn how to connect to a Cyton or Ganglion visit http://docs.openbci.com/Tutorials/03-Wifi_Getting_Started_Guide",
     "output_type": "error",
     "traceback": [
      "\u001b[1;31m---------------------------------------------------------------------------\u001b[0m",
      "\u001b[1;31mRuntimeError\u001b[0m                              Traceback (most recent call last)",
      "\u001b[1;32m~\\AppData\\Local\\Temp/ipykernel_10072/717950478.py\u001b[0m in \u001b[0;36m<module>\u001b[1;34m\u001b[0m\n\u001b[0;32m     21\u001b[0m \u001b[1;33m\u001b[0m\u001b[0m\n\u001b[0;32m     22\u001b[0m \u001b[1;31m# For TP-Link Router Wifi Station\u001b[0m\u001b[1;33m\u001b[0m\u001b[1;33m\u001b[0m\u001b[0m\n\u001b[1;32m---> 23\u001b[1;33m \u001b[0mshield\u001b[0m \u001b[1;33m=\u001b[0m \u001b[0mbci\u001b[0m\u001b[1;33m.\u001b[0m\u001b[0mOpenBCIWiFi\u001b[0m\u001b[1;33m(\u001b[0m\u001b[0mip_address\u001b[0m\u001b[1;33m=\u001b[0m\u001b[1;34m'192.168.0.100'\u001b[0m\u001b[1;33m,\u001b[0m\u001b[0mshield_name\u001b[0m\u001b[1;33m=\u001b[0m\u001b[0mshield_name\u001b[0m\u001b[1;33m,\u001b[0m \u001b[0mlog\u001b[0m\u001b[1;33m=\u001b[0m\u001b[1;32mTrue\u001b[0m\u001b[1;33m,\u001b[0m \u001b[0mhigh_speed\u001b[0m\u001b[1;33m=\u001b[0m\u001b[1;32mTrue\u001b[0m\u001b[1;33m,\u001b[0m \u001b[0msample_rate\u001b[0m\u001b[1;33m=\u001b[0m\u001b[0mshield_sr\u001b[0m\u001b[1;33m)\u001b[0m\u001b[1;33m\u001b[0m\u001b[1;33m\u001b[0m\u001b[0m\n\u001b[0m\u001b[0;32m     24\u001b[0m \u001b[1;33m\u001b[0m\u001b[0m\n\u001b[0;32m     25\u001b[0m \u001b[1;31m# For Wifi Direct\u001b[0m\u001b[1;33m\u001b[0m\u001b[1;33m\u001b[0m\u001b[0m\n",
      "\u001b[1;32m~\\Documents\\GitHub\\WifiOpenBCI_Python\\openbci\\wifi.py\u001b[0m in \u001b[0;36m__init__\u001b[1;34m(self, ip_address, shield_name, sample_rate, log, timeout, max_packets_to_skip, latency, high_speed, ssdp_attempts, num_channels, local_ip_address)\u001b[0m\n\u001b[0;32m    116\u001b[0m                         \u001b[0mprint\u001b[0m\u001b[1;33m(\u001b[0m\u001b[1;34m\"Did not find any WiFi Shields\"\u001b[0m\u001b[1;33m)\u001b[0m\u001b[1;33m\u001b[0m\u001b[1;33m\u001b[0m\u001b[0m\n\u001b[0;32m    117\u001b[0m         \u001b[1;32melse\u001b[0m\u001b[1;33m:\u001b[0m\u001b[1;33m\u001b[0m\u001b[1;33m\u001b[0m\u001b[0m\n\u001b[1;32m--> 118\u001b[1;33m             \u001b[0mself\u001b[0m\u001b[1;33m.\u001b[0m\u001b[0mon_shield_found\u001b[0m\u001b[1;33m(\u001b[0m\u001b[0mip_address\u001b[0m\u001b[1;33m)\u001b[0m\u001b[1;33m\u001b[0m\u001b[1;33m\u001b[0m\u001b[0m\n\u001b[0m\u001b[0;32m    119\u001b[0m \u001b[1;33m\u001b[0m\u001b[0m\n\u001b[0;32m    120\u001b[0m     \u001b[1;32mdef\u001b[0m \u001b[0mon_shield_found\u001b[0m\u001b[1;33m(\u001b[0m\u001b[0mself\u001b[0m\u001b[1;33m,\u001b[0m \u001b[0mip_address\u001b[0m\u001b[1;33m)\u001b[0m\u001b[1;33m:\u001b[0m\u001b[1;33m\u001b[0m\u001b[1;33m\u001b[0m\u001b[0m\n",
      "\u001b[1;32m~\\Documents\\GitHub\\WifiOpenBCI_Python\\openbci\\wifi.py\u001b[0m in \u001b[0;36mon_shield_found\u001b[1;34m(self, ip_address)\u001b[0m\n\u001b[0;32m    120\u001b[0m     \u001b[1;32mdef\u001b[0m \u001b[0mon_shield_found\u001b[0m\u001b[1;33m(\u001b[0m\u001b[0mself\u001b[0m\u001b[1;33m,\u001b[0m \u001b[0mip_address\u001b[0m\u001b[1;33m)\u001b[0m\u001b[1;33m:\u001b[0m\u001b[1;33m\u001b[0m\u001b[1;33m\u001b[0m\u001b[0m\n\u001b[0;32m    121\u001b[0m         \u001b[0mself\u001b[0m\u001b[1;33m.\u001b[0m\u001b[0mip_address\u001b[0m \u001b[1;33m=\u001b[0m \u001b[0mip_address\u001b[0m\u001b[1;33m\u001b[0m\u001b[1;33m\u001b[0m\u001b[0m\n\u001b[1;32m--> 122\u001b[1;33m         \u001b[0mself\u001b[0m\u001b[1;33m.\u001b[0m\u001b[0mconnect\u001b[0m\u001b[1;33m(\u001b[0m\u001b[1;33m)\u001b[0m\u001b[1;33m\u001b[0m\u001b[1;33m\u001b[0m\u001b[0m\n\u001b[0m\u001b[0;32m    123\u001b[0m         \u001b[1;31m# Disconnects from board when terminated\u001b[0m\u001b[1;33m\u001b[0m\u001b[1;33m\u001b[0m\u001b[0m\n\u001b[0;32m    124\u001b[0m         \u001b[0matexit\u001b[0m\u001b[1;33m.\u001b[0m\u001b[0mregister\u001b[0m\u001b[1;33m(\u001b[0m\u001b[0mself\u001b[0m\u001b[1;33m.\u001b[0m\u001b[0mdisconnect\u001b[0m\u001b[1;33m)\u001b[0m\u001b[1;33m\u001b[0m\u001b[1;33m\u001b[0m\u001b[0m\n",
      "\u001b[1;32m~\\Documents\\GitHub\\WifiOpenBCI_Python\\openbci\\wifi.py\u001b[0m in \u001b[0;36mconnect\u001b[1;34m(self)\u001b[0m\n\u001b[0;32m    164\u001b[0m             \u001b[0mboard_info\u001b[0m \u001b[1;33m=\u001b[0m \u001b[0mres_board\u001b[0m\u001b[1;33m.\u001b[0m\u001b[0mjson\u001b[0m\u001b[1;33m(\u001b[0m\u001b[1;33m)\u001b[0m\u001b[1;33m\u001b[0m\u001b[1;33m\u001b[0m\u001b[0m\n\u001b[0;32m    165\u001b[0m             \u001b[1;32mif\u001b[0m \u001b[1;32mnot\u001b[0m \u001b[0mboard_info\u001b[0m\u001b[1;33m[\u001b[0m\u001b[1;34m'board_connected'\u001b[0m\u001b[1;33m]\u001b[0m\u001b[1;33m:\u001b[0m\u001b[1;33m\u001b[0m\u001b[1;33m\u001b[0m\u001b[0m\n\u001b[1;32m--> 166\u001b[1;33m                 raise RuntimeError(\"No board connected to WiFi Shield. \"\n\u001b[0m\u001b[0;32m    167\u001b[0m                                    \u001b[1;34m\"To learn how to connect to a Cyton or Ganglion visit \"\u001b[0m\u001b[1;33m\u001b[0m\u001b[1;33m\u001b[0m\u001b[0m\n\u001b[0;32m    168\u001b[0m                                    \"http://docs.openbci.com/Tutorials/03-Wifi_Getting_Started_Guide\")\n",
      "\u001b[1;31mRuntimeError\u001b[0m: No board connected to WiFi Shield. To learn how to connect to a Cyton or Ganglion visit http://docs.openbci.com/Tutorials/03-Wifi_Getting_Started_Guide"
     ]
    }
   ],
   "source": [
    "## Package Upload\n",
    "from __future__ import print_function\n",
    "import sys\n",
    "from pylsl import StreamInfo, StreamOutlet\n",
    "import numpy as np\n",
    "sys.path.append('..')  # help python find cyton.py relative to scripts folder\n",
    "from openbci import wifi as bci\n",
    "import logging\n",
    "\n",
    "## Congifguration ##\n",
    "logging.basicConfig(filename=\"test.log\", format='%(asctime)s - %(levelname)s : %(message)s', level=logging.DEBUG)\n",
    "logging.info('---------LOG START-------------')\n",
    "# If you don't know your IP Address, you can use shield name option\n",
    "# If you know IP, such as with wifi direct 192.168.4.1, then use ip_address='192.168.4.1'\n",
    "shield_name = 'OpenBCI-296C'\n",
    "shield_sr = 1000 # Sampling Rate\n",
    "\n",
    "## Instantiate Wifi Shield Object ##\n",
    "\n",
    "#shield = bci.OpenBCIWiFi(shield_name=shield_name, log=True, high_speed=True, sample_rate=shield_sr)\n",
    "\n",
    "# For TP-Link Router Wifi Station\n",
    "shield = bci.OpenBCIWiFi(ip_address='192.168.0.100',shield_name=shield_name, log=True, high_speed=True, sample_rate=shield_sr)\n",
    "\n",
    "# For Wifi Direct\n",
    "#shield = bci.OpenBCIWiFi(ip_address='192.168.4.1',shield_name=shield_name, log=True, high_speed=True, sample_rate=shield_sr, num_channels=16)\n",
    "\n",
    "print(\"WiFi Shield Instantiated\")\n",
    "\n",
    "## Check Sampling Rate from WeDAQ ##\n",
    "#print(\"Sample rate \",shield.getSampleRate())\n",
    "#shield.set_sample_rate(shield_sr) # Makes sure to set sample rate\n"
   ]
  },
  {
   "cell_type": "code",
   "execution_count": null,
   "metadata": {},
   "outputs": [],
   "source": [
    "shield.wifi_write('A') # save data to SD card for 5 min (https://docs.openbci.com/docs/02Cyton/CytonSDK)"
   ]
  },
  {
   "cell_type": "code",
   "execution_count": null,
   "metadata": {},
   "outputs": [],
   "source": [
    "shield.wifi_write('j') # stop logging data and close SD file"
   ]
  },
  {
   "cell_type": "code",
   "execution_count": null,
   "metadata": {},
   "outputs": [],
   "source": [
    "shield.wifi_write('v') # get report of all register settings for the ADS1299 and the LIS3DH (Not working for some reason)"
   ]
  },
  {
   "cell_type": "code",
   "execution_count": null,
   "metadata": {},
   "outputs": [],
   "source": [
    "shield.wifi_write('/1') # set debug mode on"
   ]
  },
  {
   "cell_type": "code",
   "execution_count": null,
   "metadata": {},
   "outputs": [],
   "source": [
    "shield.wifi_write('d') # default setting for all channel"
   ]
  },
  {
   "cell_type": "code",
   "execution_count": null,
   "metadata": {},
   "outputs": [],
   "source": [
    "print(\"Board Type:\", shield.getBoardType())\n",
    "\n",
    "\n",
    "# default channelnum\n",
    "channelnum = 16\n",
    "\n",
    "#shield.wifi_write('d') # set channel settings to default\n",
    "#shield.wifi_write('?') # get report of all register settings for the ADS1299 and the LIS3DH\n",
    "\n",
    "#shield.wifi_write('A')\n",
    "\n",
    "## Define Board Type ## \n",
    "# isDaisy = True\n",
    "# if isDaisy == False:\n",
    "#     channelnum = 8\n",
    "#     #shield.wifi_write('c')\n",
    "#     shield.wifi_write('4');\n",
    "#     print(\"Selecting only 8 channels\")\n",
    "# else:\n",
    "#     shield.wifi_write('C')\n",
    "\n",
    "print(\"Number of Channels:\", shield.num_channels)\n",
    "\n",
    "## Enable Synthetic Square Wave ##\n",
    "#shield.test_signal(0); # 1 - enable syntetic square wave, 0 - disable syntethic square wave"
   ]
  },
  {
   "cell_type": "code",
   "execution_count": null,
   "metadata": {},
   "outputs": [],
   "source": [
    "## Print to lsl\n",
    "\n",
    "## For Cyton + Daisy\n",
    "SCALE_FACTOR_EEG = (4500000)/24/(2**23-1) #uV/count\n",
    "SCALE_FACTOR_AUX = 0.002 / (2**4) #G/count\n",
    "\n",
    "print(\"Sample rate \",shield.getSampleRate())\n",
    "\n",
    "# EEG Data Stream ##\n",
    "print(\"Creating LSL stream for EEG. \\nName: OpenBCIEEG1\\nID: OpenBCItestEEG1\\n\")\n",
    "info_eeg1 = StreamInfo('OpenBCIEEG1', 'EEG', 16, shield_sr, 'float32', 'OpenBCItestEEG1') # Define\n",
    "outlet_eeg1 = StreamOutlet(info_eeg1)\n",
    "\n",
    "## Acceleration Data Stream ##\n",
    "#print(\"Creating LSL stream for ACCEL. \\nName: OpenBCIACCEL1\\nID: OpenBCItestACCEL1\\n\")\n",
    "#info_accel1 = StreamInfo('OpenBCIACCEL1', 'ACCEL', 3, shield_sr, 'float32', 'OpenBCItestACCEL1')\n",
    "#outlet_accel1 = StreamOutlet(info_accel1)\n",
    "\n",
    "## define what Data to stream\n",
    "def printData(sample):\n",
    "    outlet_eeg1.push_sample(np.array(sample.channel_data)*SCALE_FACTOR_EEG)\n",
    "    #outlet_accel1.push_sample(np.array(sample.accel_data)*SCALE_FACTOR_AUX)\n",
    "    #outlet_accel1.push_sample(np.array(sample.sample_number))\n",
    "\n",
    "shield.start_streaming(printData)\n",
    "#shield.wifi_write('P')\n",
    "shield.loop()"
   ]
  },
  {
   "cell_type": "code",
   "execution_count": null,
   "metadata": {},
   "outputs": [],
   "source": [
    "shield.stop()"
   ]
  },
  {
   "cell_type": "code",
   "execution_count": null,
   "metadata": {},
   "outputs": [],
   "source": [
    "shield.check_connection()"
   ]
  }
 ],
 "metadata": {
  "kernelspec": {
   "display_name": "Python 3 (ipykernel)",
   "language": "python",
   "name": "python3"
  },
  "language_info": {
   "codemirror_mode": {
    "name": "ipython",
    "version": 3
   },
   "file_extension": ".py",
   "mimetype": "text/x-python",
   "name": "python",
   "nbconvert_exporter": "python",
   "pygments_lexer": "ipython3",
   "version": "3.9.7"
  }
 },
 "nbformat": 4,
 "nbformat_minor": 4
}
