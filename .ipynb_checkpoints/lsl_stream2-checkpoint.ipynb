{
 "cells": [
  {
   "cell_type": "code",
   "execution_count": null,
   "metadata": {},
   "outputs": [],
   "source": [
    "from __future__ import print_function\n",
    "import sys\n",
    "from pylsl import StreamInfo, StreamOutlet\n",
    "import numpy as np\n",
    "\n",
    "sys.path.append('..')  # help python find cyton.py relative to scripts folder\n",
    "from openbci import wifi as bci\n",
    "import logging\n",
    "\n",
    "logging.basicConfig(filename=\"test.log\", format='%(asctime)s - %(levelname)s : %(message)s', level=logging.DEBUG)\n",
    "logging.info('---------LOG START-------------')\n",
    "# If you don't know your IP Address, you can use shield name option\n",
    "# If you know IP, such as with wifi direct 192.168.4.1, then use ip_address='192.168.4.1'\n",
    "shield_name = 'OpenBCI-EB12'\n",
    "shield_sr = 1000 # Sampling Rate\n",
    "shield = bci.OpenBCIWiFi( shield_name=shield_name, log=True, high_speed=True, sample_rate=shield_sr)\n",
    "#shield = bci.OpenBCIWiFi(ip_address='192.168.0.101', shield_name=shield_name, log=True, high_speed=True, sample_rate=shield_sr)\n",
    "print(\"WiFi Shield Instantiated\")"
   ]
  },
  {
   "cell_type": "code",
   "execution_count": null,
   "metadata": {},
   "outputs": [],
   "source": [
    "## Package Upload\n",
    "from __future__ import print_function\n",
    "import sys\n",
    "from pylsl import StreamInfo, StreamOutlet\n",
    "import numpy as np\n",
    "sys.path.append('..')  # help python find cyton.py relative to scripts folder\n",
    "from openbci import wifi as bci\n",
    "import logging\n",
    "\n",
    "## Congifguration ##\n",
    "logging.basicConfig(filename=\"test.log\", format='%(asctime)s - %(levelname)s : %(message)s', level=logging.DEBUG)\n",
    "logging.info('---------LOG START-------------')\n",
    "# If you don't know your IP Address, you can use shield name option\n",
    "# If you know IP, such as with wifi direct 192.168.4.1, then use ip_address='192.168.4.1'\n",
    "shield_name = 'OpenBCI-EB12'\n",
    "shield_sr = 1000 # Sampling Rate\n",
    "\n",
    "## Instantiate Wifi Shield Object ##\n",
    "\n",
    "#shield = bci.OpenBCIWiFi(shield_name=shield_name, log=True, high_speed=True, sample_rate=shield_sr)\n",
    "\n",
    "# For TP-Link Router Wifi Station\n",
    "shield = bci.OpenBCIWiFi(ip_address='192.168.0.101',shield_name=shield_name, log=True, high_speed=True, sample_rate=shield_sr)\n",
    "\n",
    "# For Wifi Direct\n",
    "#shield = bci.OpenBCIWiFi(ip_address='192.168.4.1',shield_name=shield_name, log=True, high_speed=True, sample_rate=shield_sr, num_channels=16)\n",
    "\n",
    "print(\"WiFi Shield Instantiated\")"
   ]
  },
  {
   "cell_type": "code",
   "execution_count": null,
   "metadata": {},
   "outputs": [],
   "source": [
    "\n",
    "#print(\"Sample rate \",shield.getSampleRate())\n",
    "#shield.set_sample_rate(shield_sr)\n",
    "#print(\"Sample rate \",shield.getSampleRate())\n",
    "#shield.test_signal(1) # 1 - enable syntetic square wave, 0 - disable syntethic square wave\n",
    "\n",
    "SCALE_FACTOR_EEG = (4500000)/24/(2**23-1) #uV/count\n",
    "\n",
    "# Print to lsl\n",
    "print(\"Creating LSL stream for EEG. \\nName: OpenBCIEEG2\\nID: OpenBCItestEEG2\\n\")\n",
    "info_eeg2 = StreamInfo('OpenBCIEEG2', 'EEG', 16, shield_sr, 'float32', 'OpenBCItestEEG2')\n",
    "#print(\"Creating LSL stream for ACCEL. \\nName: OpenBCIACCEL2\\nID: OpenBCItestACCEL2\\n\")\n",
    "#info_accel2 = StreamInfo('OpenBCIACCEL2', 'ACCEL', 3, shield_sr, 'float32', 'OpenBCItestACCEL2')\n",
    "\n",
    "outlet_eeg2 = StreamOutlet(info_eeg2)\n",
    "#outlet_accel2 = StreamOutlet(info_accel2)\n",
    "\n",
    "def printData(sample):\n",
    "    outlet_eeg2.push_sample(np.array(sample.channel_data)*SCALE_FACTOR_EEG)\n",
    "    #outlet_accel2.push_sample(np.array(sample.accel_data))\n",
    "    #outlet_accel1.push_sample(np.array(sample.sample_number))\n",
    "shield.start_streaming(printData)\n",
    "shield.wifi_write('P')\n",
    "shield.loop()"
   ]
  }
 ],
 "metadata": {
  "kernelspec": {
   "display_name": "Python 3 (ipykernel)",
   "language": "python",
   "name": "python3"
  },
  "language_info": {
   "codemirror_mode": {
    "name": "ipython",
    "version": 3
   },
   "file_extension": ".py",
   "mimetype": "text/x-python",
   "name": "python",
   "nbconvert_exporter": "python",
   "pygments_lexer": "ipython3",
   "version": "3.9.7"
  }
 },
 "nbformat": 4,
 "nbformat_minor": 4
}
