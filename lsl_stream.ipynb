{
 "cells": [
  {
   "cell_type": "code",
   "execution_count": 3,
   "metadata": {
    "scrolled": true
   },
   "outputs": [
    {
     "name": "stdout",
     "output_type": "stream",
     "text": [
      "Welcome to OpenBCI Native WiFi Shield Driver - Please contribute code!\n",
      "Opened socket on 192.168.0.100:55928\n",
      "Init WiFi connection with IP: 192.168.0.102\n",
      "Connected to daisy with 16 channels\n",
      "WiFi Shield to Python TCP Socket Established\n",
      "WiFi Shield Instantiated\n",
      "Sample rate  1000\n",
      "Success: Sample rate is 1000Hz\n",
      "\n",
      "Sample rate  1000\n",
      "Warning: Enabling synthetic square wave\n",
      "Something went wrong while setting signal: ('Connection aborted.', RemoteDisconnected('Remote end closed connection without response'))\n",
      "Creating LSL stream for EEG. \n",
      "Name: OpenBCIEEG1\n",
      "ID: OpenBCItestEEG1\n",
      "\n",
      "Creating LSL stream for ACCEL. \n",
      "Name: OpenBCIACCEL1\n",
      "ID: OpenBCItestACCEL1\n",
      "\n",
      "Incoming connection from ('192.168.0.102', 19517)\n"
     ]
    },
    {
     "ename": "KeyboardInterrupt",
     "evalue": "",
     "output_type": "error",
     "traceback": [
      "\u001b[1;31m---------------------------------------------------------------------------\u001b[0m",
      "\u001b[1;31mKeyboardInterrupt\u001b[0m                         Traceback (most recent call last)",
      "\u001b[1;32m<ipython-input-3-986c8480e516>\u001b[0m in \u001b[0;36m<module>\u001b[1;34m\u001b[0m\n\u001b[0;32m     42\u001b[0m \u001b[1;33m\u001b[0m\u001b[0m\n\u001b[0;32m     43\u001b[0m \u001b[0mshield\u001b[0m\u001b[1;33m.\u001b[0m\u001b[0mstart_streaming\u001b[0m\u001b[1;33m(\u001b[0m\u001b[0mprintData\u001b[0m\u001b[1;33m)\u001b[0m\u001b[1;33m\u001b[0m\u001b[1;33m\u001b[0m\u001b[0m\n\u001b[1;32m---> 44\u001b[1;33m \u001b[0mshield\u001b[0m\u001b[1;33m.\u001b[0m\u001b[0mloop\u001b[0m\u001b[1;33m(\u001b[0m\u001b[1;33m)\u001b[0m\u001b[1;33m\u001b[0m\u001b[1;33m\u001b[0m\u001b[0m\n\u001b[0m\u001b[0;32m     45\u001b[0m \u001b[1;33m\u001b[0m\u001b[0m\n\u001b[0;32m     46\u001b[0m \u001b[1;33m\u001b[0m\u001b[0m\n",
      "\u001b[1;32m~\\Desktop\\OpenBCI_Python_remastered\\openbci\\wifi.py\u001b[0m in \u001b[0;36mloop\u001b[1;34m(self)\u001b[0m\n\u001b[0;32m    125\u001b[0m \u001b[1;33m\u001b[0m\u001b[0m\n\u001b[0;32m    126\u001b[0m     \u001b[1;32mdef\u001b[0m \u001b[0mloop\u001b[0m\u001b[1;33m(\u001b[0m\u001b[0mself\u001b[0m\u001b[1;33m)\u001b[0m\u001b[1;33m:\u001b[0m\u001b[1;33m\u001b[0m\u001b[1;33m\u001b[0m\u001b[0m\n\u001b[1;32m--> 127\u001b[1;33m         \u001b[0masyncore\u001b[0m\u001b[1;33m.\u001b[0m\u001b[0mloop\u001b[0m\u001b[1;33m(\u001b[0m\u001b[1;33m)\u001b[0m\u001b[1;33m\u001b[0m\u001b[1;33m\u001b[0m\u001b[0m\n\u001b[0m\u001b[0;32m    128\u001b[0m \u001b[1;33m\u001b[0m\u001b[0m\n\u001b[0;32m    129\u001b[0m     \u001b[1;32mdef\u001b[0m \u001b[0m_get_local_ip_address\u001b[0m\u001b[1;33m(\u001b[0m\u001b[0mself\u001b[0m\u001b[1;33m)\u001b[0m\u001b[1;33m:\u001b[0m\u001b[1;33m\u001b[0m\u001b[1;33m\u001b[0m\u001b[0m\n",
      "\u001b[1;32m~\\anaconda3\\envs\\obcipy\\lib\\asyncore.py\u001b[0m in \u001b[0;36mloop\u001b[1;34m(timeout, use_poll, map, count)\u001b[0m\n\u001b[0;32m    201\u001b[0m     \u001b[1;32mif\u001b[0m \u001b[0mcount\u001b[0m \u001b[1;32mis\u001b[0m \u001b[1;32mNone\u001b[0m\u001b[1;33m:\u001b[0m\u001b[1;33m\u001b[0m\u001b[1;33m\u001b[0m\u001b[0m\n\u001b[0;32m    202\u001b[0m         \u001b[1;32mwhile\u001b[0m \u001b[0mmap\u001b[0m\u001b[1;33m:\u001b[0m\u001b[1;33m\u001b[0m\u001b[1;33m\u001b[0m\u001b[0m\n\u001b[1;32m--> 203\u001b[1;33m             \u001b[0mpoll_fun\u001b[0m\u001b[1;33m(\u001b[0m\u001b[0mtimeout\u001b[0m\u001b[1;33m,\u001b[0m \u001b[0mmap\u001b[0m\u001b[1;33m)\u001b[0m\u001b[1;33m\u001b[0m\u001b[1;33m\u001b[0m\u001b[0m\n\u001b[0m\u001b[0;32m    204\u001b[0m \u001b[1;33m\u001b[0m\u001b[0m\n\u001b[0;32m    205\u001b[0m     \u001b[1;32melse\u001b[0m\u001b[1;33m:\u001b[0m\u001b[1;33m\u001b[0m\u001b[1;33m\u001b[0m\u001b[0m\n",
      "\u001b[1;32m~\\anaconda3\\envs\\obcipy\\lib\\asyncore.py\u001b[0m in \u001b[0;36mpoll\u001b[1;34m(timeout, map)\u001b[0m\n\u001b[0;32m    142\u001b[0m             \u001b[1;32mreturn\u001b[0m\u001b[1;33m\u001b[0m\u001b[1;33m\u001b[0m\u001b[0m\n\u001b[0;32m    143\u001b[0m \u001b[1;33m\u001b[0m\u001b[0m\n\u001b[1;32m--> 144\u001b[1;33m         \u001b[0mr\u001b[0m\u001b[1;33m,\u001b[0m \u001b[0mw\u001b[0m\u001b[1;33m,\u001b[0m \u001b[0me\u001b[0m \u001b[1;33m=\u001b[0m \u001b[0mselect\u001b[0m\u001b[1;33m.\u001b[0m\u001b[0mselect\u001b[0m\u001b[1;33m(\u001b[0m\u001b[0mr\u001b[0m\u001b[1;33m,\u001b[0m \u001b[0mw\u001b[0m\u001b[1;33m,\u001b[0m \u001b[0me\u001b[0m\u001b[1;33m,\u001b[0m \u001b[0mtimeout\u001b[0m\u001b[1;33m)\u001b[0m\u001b[1;33m\u001b[0m\u001b[1;33m\u001b[0m\u001b[0m\n\u001b[0m\u001b[0;32m    145\u001b[0m \u001b[1;33m\u001b[0m\u001b[0m\n\u001b[0;32m    146\u001b[0m         \u001b[1;32mfor\u001b[0m \u001b[0mfd\u001b[0m \u001b[1;32min\u001b[0m \u001b[0mr\u001b[0m\u001b[1;33m:\u001b[0m\u001b[1;33m\u001b[0m\u001b[1;33m\u001b[0m\u001b[0m\n",
      "\u001b[1;31mKeyboardInterrupt\u001b[0m: "
     ]
    }
   ],
   "source": [
    "from __future__ import print_function\n",
    "import sys\n",
    "from pylsl import StreamInfo, StreamOutlet\n",
    "import numpy as np\n",
    "\n",
    "sys.path.append('..')  # help python find cyton.py relative to scripts folder\n",
    "from openbci import wifi as bci\n",
    "import logging\n",
    "\n",
    "\n",
    "SCALE_FACTOR_EEG = (4500000)/24/(2**23-1) #uV/count\n",
    "\n",
    "logging.basicConfig(filename=\"test.log\", format='%(asctime)s - %(levelname)s : %(message)s', level=logging.DEBUG)\n",
    "logging.info('---------LOG START-------------')\n",
    "# If you don't know your IP Address, you can use shield name option\n",
    "# If you know IP, such as with wifi direct 192.168.4.1, then use ip_address='192.168.4.1'\n",
    "shield_name = 'OpenBCI-F2C0'\n",
    "shield_sr = 1000 # Sampling Rate\n",
    "#shield = bci.OpenBCIWiFi( shield_name=shield_name, log=True, high_speed=True, sample_rate=shield_sr)\n",
    "shield = bci.OpenBCIWiFi(ip_address='192.168.0.102',shield_name=shield_name, log=True, high_speed=True, sample_rate=shield_sr)\n",
    "print(\"WiFi Shield Instantiated\")\n",
    "\n",
    "print(\"Sample rate \",shield.getSampleRate())\n",
    "shield.set_sample_rate(shield_sr)\n",
    "print(\"Sample rate \",shield.getSampleRate())\n",
    "shield.test_signal(1) # 1 - enable syntetic square wave, 0 - disable syntethic square wave\n",
    "\n",
    "\n",
    "# Print to lsl\n",
    "print(\"Creating LSL stream for EEG. \\nName: OpenBCIEEG1\\nID: OpenBCItestEEG1\\n\")\n",
    "info_eeg1 = StreamInfo('OpenBCIEEG1', 'EEG', 16, shield_sr, 'float32', 'OpenBCItestEEG1')\n",
    "print(\"Creating LSL stream for ACCEL. \\nName: OpenBCIACCEL1\\nID: OpenBCItestACCEL1\\n\")\n",
    "info_accel1 = StreamInfo('OpenBCIACCEL1', 'ACCEL', 3, shield_sr, 'float32', 'OpenBCItestACCEL1')\n",
    "\n",
    "outlet_eeg1 = StreamOutlet(info_eeg1)\n",
    "outlet_accel1 = StreamOutlet(info_accel1)\n",
    "\n",
    "def printData(sample):\n",
    "    outlet_eeg1.push_sample(np.array(sample.channel_data)*SCALE_FACTOR_EEG)\n",
    "    outlet_accel1.push_sample(np.array(sample.accel_data))\n",
    "    #outlet_accel1.push_sample(np.array(sample.sample_number))\n",
    "\n",
    "shield.start_streaming(printData)\n",
    "shield.loop()\n",
    "\n",
    "\n"
   ]
  },
  {
   "cell_type": "code",
   "execution_count": null,
   "metadata": {},
   "outputs": [],
   "source": []
  }
 ],
 "metadata": {
  "kernelspec": {
   "display_name": "Python 3",
   "language": "python",
   "name": "python3"
  },
  "language_info": {
   "codemirror_mode": {
    "name": "ipython",
    "version": 3
   },
   "file_extension": ".py",
   "mimetype": "text/x-python",
   "name": "python",
   "nbconvert_exporter": "python",
   "pygments_lexer": "ipython3",
   "version": "3.8.3"
  }
 },
 "nbformat": 4,
 "nbformat_minor": 4
}
